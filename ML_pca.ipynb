{
  "nbformat": 4,
  "nbformat_minor": 0,
  "metadata": {
    "colab": {
      "provenance": [],
      "include_colab_link": true
    },
    "kernelspec": {
      "name": "python3",
      "display_name": "Python 3"
    },
    "accelerator": "GPU"
  },
  "cells": [
    {
      "cell_type": "markdown",
      "metadata": {
        "id": "view-in-github",
        "colab_type": "text"
      },
      "source": [
        "<a href=\"https://colab.research.google.com/github/saketh1999/ML_PCA/blob/main/ML_pca.ipynb\" target=\"_parent\"><img src=\"https://colab.research.google.com/assets/colab-badge.svg\" alt=\"Open In Colab\"/></a>"
      ]
    },
    {
      "cell_type": "markdown",
      "metadata": {
        "id": "ml58PJ9UDwRk"
      },
      "source": [
        "**Principal Component Analysis**\n",
        "\n",
        "You will implement dimensionality reduction with PCA.  \n",
        "\n",
        "1). Read iris_dataset.csv (4 features, hence 4 PCs)\n",
        "\n",
        "2). Find the principal components\n",
        "\n",
        "3). Recontruct the dataset (X_hat)\n",
        "\n",
        "4). Determine the accuracy of X_hat for 1 PC and 4 PCs using LDA classifier (provided below)\n"
      ]
    },
    {
      "cell_type": "code",
      "metadata": {
        "id": "b3DA-QxT0O6X",
        "outputId": "51a2edf4-4faf-4c84-a321-df59976ccf55",
        "colab": {
          "base_uri": "https://localhost:8080/"
        }
      },
      "source": [
        "import numpy as np\n",
        "import pandas as pd\n",
        "#import matplotlib.pyplot as plt\n",
        "from numpy import linalg as LA\n",
        "from sklearn.discriminant_analysis import LinearDiscriminantAnalysis\n",
        "from sklearn.model_selection import cross_val_score\n",
        "\n",
        "\n",
        "# Load data - 150 observations, 4 features, 3 classes,\n",
        "df = pd.read_csv(\"iris_dataset.csv\", header=None)\n",
        "print(df.describe())\n",
        "data = df.values\n",
        "print(np.shape(data))"
      ],
      "execution_count": null,
      "outputs": [
        {
          "output_type": "stream",
          "name": "stdout",
          "text": [
            "                0           1           2           3           4\n",
            "count  150.000000  150.000000  150.000000  150.000000  150.000000\n",
            "mean     5.843333    3.057333    3.758000    1.199333    2.000000\n",
            "std      0.828066    0.435866    1.765298    0.762238    0.819232\n",
            "min      4.300000    2.000000    1.000000    0.100000    1.000000\n",
            "25%      5.100000    2.800000    1.600000    0.300000    1.000000\n",
            "50%      5.800000    3.000000    4.350000    1.300000    2.000000\n",
            "75%      6.400000    3.300000    5.100000    1.800000    3.000000\n",
            "max      7.900000    4.400000    6.900000    2.500000    3.000000\n",
            "(150, 5)\n"
          ]
        }
      ]
    },
    {
      "cell_type": "code",
      "metadata": {
        "id": "9J_I64r12CK1",
        "outputId": "820e2542-d3b9-4ae2-9557-9bdd79109407",
        "colab": {
          "base_uri": "https://localhost:8080/"
        }
      },
      "source": [
        "## Setup\n",
        "\n",
        "# Shuffle data randomly\n",
        "shuffled_data = data;\n",
        "np.random.shuffle(shuffled_data)\n",
        "X = shuffled_data[:,0:4]  # 150x4\n",
        "y = shuffled_data[:,4]\n",
        "\n",
        "# Classification accuracy with the original dataset using LDA\n",
        "model_mean_scores = []\n",
        "model = LinearDiscriminantAnalysis().fit(X, y)\n",
        "scores = cross_val_score(model, X, y, cv=10)\n",
        "model_mean_scores.append(np.mean(scores))\n",
        "print('>> Average accuracy with the original dataset = {0:0.4f}'.format(model_mean_scores[0]))\n"
      ],
      "execution_count": null,
      "outputs": [
        {
          "output_type": "stream",
          "name": "stdout",
          "text": [
            ">> Average accuracy with the original dataset = 0.9800\n"
          ]
        }
      ]
    },
    {
      "cell_type": "code",
      "metadata": {
        "id": "g3llQ6-RP00N"
      },
      "source": [
        "def evaluate_accuracy(X_hat, Num_PC, y):\n",
        "\n",
        "  ###############################################\n",
        "  # Evaluate classificatin accuracy with LDA\n",
        "  ###############################################\n",
        "  '''\n",
        "    Inputs:\n",
        "      X_hat: reconstructed dataset. dimension=150x4\n",
        "      Num_PC: number of PC's used to recover X_hat\n",
        "      y: class label vector. dimension=150x1\n",
        "\n",
        "  '''\n",
        "\n",
        "  from sklearn.discriminant_analysis import LinearDiscriminantAnalysis\n",
        "  from sklearn.model_selection import cross_val_score\n",
        "\n",
        "  X_train = X_hat[:,0:Num_PC]        # dimensionally reduced dataset\n",
        "  y_train = y\n",
        "\n",
        "  model_mean_scores = []\n",
        "  model = LinearDiscriminantAnalysis().fit(X_train, y_train)\n",
        "  scores = cross_val_score(model, X_train, y_train, cv=10)\n",
        "  model_mean_scores.append(np.mean(scores))\n",
        "\n",
        "  print('Average accuracy = {0:0.4f} with {1:1d} PCs'\n",
        "     .format(model_mean_scores[0], Num_PC))"
      ],
      "execution_count": null,
      "outputs": []
    },
    {
      "cell_type": "code",
      "source": [
        "def compute_reconstructed_matrix(X, Num_PC):\n",
        "\n",
        "  M = np.mean(X, axis=0)\n",
        "  M = np.repeat([M], repeats=len(X), axis=0)\n",
        "  XM = X - M\n",
        "  #print(XM)\n",
        "\n",
        "  XMCovar = np.cov(np.transpose(XM))\n",
        "  XMCovar = XMCovar/(len(X)-1)\n",
        "  values, vectors = LA.eig(XMCovar)\n",
        "\n",
        "  PC = np.matmul(XM, vectors)\n",
        "\n",
        "  req_PC = PC[:,0:Num_PC]\n",
        "  req_vect = vectors[:,0:Num_PC]\n",
        "\n",
        "  Xhat = np.matmul(req_PC, np.transpose(req_vect)) + M\n",
        "  return Xhat"
      ],
      "metadata": {
        "id": "eL2JyYqJLMtn"
      },
      "execution_count": null,
      "outputs": []
    },
    {
      "cell_type": "code",
      "metadata": {
        "id": "O-L8WvJIAKeY",
        "outputId": "d2ae0efd-40b1-4851-f4cb-5cec88f40465",
        "colab": {
          "base_uri": "https://localhost:8080/"
        }
      },
      "source": [
        "\n",
        "X_hat= compute_reconstructed_matrix(X,1)\n",
        "evaluate_accuracy(X_hat, 1, y)  # classification accuracy with 1 PC\n",
        "\n",
        "X_hat= compute_reconstructed_matrix(X,4)\n",
        "evaluate_accuracy(X_hat, 4, y)  # classification accuracy with 4 PCs\n"
      ],
      "execution_count": null,
      "outputs": [
        {
          "output_type": "stream",
          "name": "stdout",
          "text": [
            "Average accuracy = 0.9267 with 1 PCs\n",
            "Average accuracy = 0.9800 with 4 PCs\n"
          ]
        }
      ]
    }
  ]
}